{
 "cells": [
  {
   "cell_type": "code",
   "execution_count": 1,
   "id": "21dd5064",
   "metadata": {},
   "outputs": [],
   "source": [
    "import numpy as np\n",
    "import pandas as pd\n",
    "import matplotlib.pyplot as plt\n",
    "\n",
    "from sklearn.model_selection import train_test_split, GridSearchCV\n",
    "from sklearn.model_selection import RepeatedStratifiedKFold\n",
    "from sklearn.tree import DecisionTreeClassifier\n",
    "from xgboost import XGBClassifier\n",
    "from catboost import CatBoostClassifier\n",
    "from sklearn.ensemble import RandomForestClassifier\n",
    "from sklearn.preprocessing import OneHotEncoder\n",
    "from sklearn.compose import ColumnTransformer\n",
    "from sklearn.pipeline import Pipeline\n",
    "from sklearn.metrics import accuracy_score, classification_report, confusion_matrix, roc_auc_score\n",
    "from sklearn.metrics import roc_curve, auc"
   ]
  },
  {
   "cell_type": "markdown",
   "id": "c830192f",
   "metadata": {},
   "source": [
    "# train, predict_score, feature_importance functions"
   ]
  },
  {
   "cell_type": "code",
   "execution_count": 2,
   "id": "257f00a4",
   "metadata": {},
   "outputs": [],
   "source": [
    "def train_tune_classifier(clf, param_grid, X_train, y_train, scoring):\n",
    "    cv = RepeatedStratifiedKFold(n_splits=10, n_repeats=10)\n",
    "    \n",
    "    grid_search = GridSearchCV(clf, param_grid, cv=cv, scoring=scoring, verbose=0, n_jobs=-1)\n",
    "    grid_search.fit(X_train, y_train)\n",
    "    \n",
    "    print(\"Best params:\")\n",
    "    print(grid_search.best_params_)\n",
    "    print(f\"Internal CV score: {grid_search.best_score_:.3f}\")\n",
    "    return grid_search"
   ]
  },
  {
   "cell_type": "code",
   "execution_count": 3,
   "id": "1ca30316",
   "metadata": {},
   "outputs": [],
   "source": [
    "def print_prediction_score(grid_search, X_test, y_test, y_pred):\n",
    "    conf_matrix = confusion_matrix(y_test, y_pred)\n",
    "    tn, fp, fn, tp = conf_matrix.ravel()\n",
    "    sensitivity = tp / (tp + fn)\n",
    "    specificity = tn / (tn + fp)\n",
    "    precision = tp / (tp + fp)\n",
    "    f1 = 2 * (precision * sensitivity) / (precision + sensitivity)\n",
    "    y_pred_prob = grid_search.predict_proba(X_test)[:, 1]  # Probability of class 1\n",
    "    roc_auc = roc_auc_score(y_test, y_pred_prob)\n",
    "\n",
    "    print(\"Confusion Matrix:\")\n",
    "    print(conf_matrix)\n",
    "    print(f\"Sensitivity (Recall for class 1):, {sensitivity:.3f}\")\n",
    "    print(f\"Specificity (Recall for class 0):, {specificity:.3f}\")\n",
    "    print(f\"Precision:, {precision:.3f}\")\n",
    "    print(f\"F1-Score:, {f1:.3f}\")\n",
    "    print(f\"AUC-ROC Score:, {roc_auc:.3f}\")"
   ]
  },
  {
   "cell_type": "code",
   "execution_count": 4,
   "id": "a2a588b0",
   "metadata": {},
   "outputs": [],
   "source": [
    "def print_feature_importance(grid_search, above_zero=True):\n",
    "    best_classifier = grid_search.best_estimator_.named_steps['classifier']\n",
    "    \n",
    "    feature_importances = best_classifier.feature_importances_ * 100\n",
    "    \n",
    "    preprocessor = grid_search.best_estimator_.named_steps['preprocessor']\n",
    "    onehot_encoder = preprocessor.named_transformers_['cat'].named_steps['onehot']\n",
    "    categorical_feature_names = list(onehot_encoder.get_feature_names_out(input_features=cat_cols))\n",
    "    all_feature_names = categorical_feature_names + num_cols\n",
    "    \n",
    "    feature_importance_pairs = list(zip(all_feature_names, feature_importances))\n",
    "    sorted_feature_importances = sorted(feature_importance_pairs, key=lambda x: x[1], reverse=True)\n",
    "\n",
    "    return sorted_feature_importances"
   ]
  },
  {
   "cell_type": "code",
   "execution_count": 5,
   "id": "2462a475",
   "metadata": {},
   "outputs": [],
   "source": [
    "def plot_feature_importances(sorted_feature_importances, title=\"Feature Importances\", color=\"blue\"):\n",
    "    features, importances = zip(*sorted_feature_importances)\n",
    "    importances = np.asarray(importances)\n",
    "    importances = tuple(importances/sum(importances))\n",
    "\n",
    "    plt.figure(figsize=(10, len(features) * 0.4))  # Adjust the figure size\n",
    "    plt.barh(features, importances, color=color)  # Setting the color of the bars here\n",
    "    plt.title(title)\n",
    "    plt.xlim(0, 1)\n",
    "    plt.gca().invert_yaxis()  # Highest importance at the top\n",
    "    plt.show()"
   ]
  },
  {
   "cell_type": "code",
   "execution_count": 6,
   "id": "220c0728",
   "metadata": {},
   "outputs": [],
   "source": [
    "# Load your dataset\n",
    "data = pd.read_csv('stat_final_csv.csv')"
   ]
  },
  {
   "cell_type": "code",
   "execution_count": 7,
   "id": "38a8b212",
   "metadata": {},
   "outputs": [],
   "source": [
    "data['Age.61'] = 0\n",
    "data.loc[data['Age ']>=61,'Age.61'] = 1\n",
    "data['Age.51'] = 0\n",
    "data.loc[data['Age ']>=51,'Age.51'] = 1\n",
    "data['Age.71'] = 0\n",
    "data.loc[data['Age ']>=71,'Age.71'] = 1\n",
    "data['CA 125(2group)'] = 0\n",
    "data.loc[data['CA 125']>35,'CA 125(2group)'] = 1\n",
    "data['Histology(3group)'] = data['Histology_specific']\n",
    "data.loc[data['Histology_specific']>2,'Histology(3group)'] = 3\n",
    "data['Histology(2group)'] = data['Histology(3group)']\n",
    "data.loc[data['Histology(2group)']<3,'Histology(2group)'] = 0\n",
    "data.loc[data['Histology(2group)']==3,'Histology(2group)'] = 1"
   ]
  },
  {
   "cell_type": "code",
   "execution_count": 8,
   "id": "2c1fb73f",
   "metadata": {},
   "outputs": [
    {
     "name": "stdout",
     "output_type": "stream",
     "text": [
      "(109, 7)\n",
      "Index(['Age.51', 'Histology(2group)', 'MI(2group)', 'LVI(2group)', 'CA 125',\n",
      "       'Mass size binary(2cm)', 'ultrastaging_lymphnode_metastasis'],\n",
      "      dtype='object')\n"
     ]
    }
   ],
   "source": [
    "data2 = data[data['recurrence']!='na'][[\n",
    "          'Age.51',\n",
    "          'Histology(2group)',\n",
    "          'MI(2group)',\n",
    "          'LVI(2group)',\n",
    "          'CA 125',\n",
    "          'Mass size binary(2cm)',\n",
    "          'ultrastaging_lymphnode_metastasis']]\n",
    "print(data2.shape)\n",
    "print(data2.keys())"
   ]
  },
  {
   "cell_type": "markdown",
   "id": "cb17d798",
   "metadata": {},
   "source": [
    "# Preprocess data"
   ]
  },
  {
   "cell_type": "code",
   "execution_count": 9,
   "id": "cff13741",
   "metadata": {},
   "outputs": [
    {
     "name": "stdout",
     "output_type": "stream",
     "text": [
      "(76, 7) (33, 7)\n"
     ]
    }
   ],
   "source": [
    "r = 22\n",
    "data_train, data_test = train_test_split(\n",
    "    data2, \n",
    "    test_size=0.3, \n",
    "    stratify=data2[['Histology(2group)',\n",
    "                    #'Histology(3group)',\n",
    "                    #'Age.51',\n",
    "                    #'Age.61',\n",
    "                    'ultrastaging_lymphnode_metastasis',\n",
    "                    #'MI(2group)',\n",
    "                    #'LVI(2group)',\n",
    "                    'Mass size binary(2cm)'\n",
    "                   ]], \n",
    "    random_state=r\n",
    ")\n",
    "print(data_train.shape,data_test.shape)"
   ]
  },
  {
   "cell_type": "code",
   "execution_count": 10,
   "id": "d7bace6e",
   "metadata": {},
   "outputs": [
    {
     "name": "stdout",
     "output_type": "stream",
     "text": [
      "9\n",
      "4\n",
      "ultrastaging_lymphnode_metastasis\n",
      "0    0.881579\n",
      "1    0.118421\n",
      "dtype: float64\n",
      "ultrastaging_lymphnode_metastasis\n",
      "0    0.878788\n",
      "1    0.121212\n",
      "dtype: float64\n",
      "Histology(2group)\n",
      "0    0.802632\n",
      "1    0.197368\n",
      "dtype: float64\n",
      "Histology(2group)\n",
      "0    0.787879\n",
      "1    0.212121\n",
      "dtype: float64\n",
      "MI(2group)\n",
      "0    0.894737\n",
      "1    0.105263\n",
      "dtype: float64\n",
      "MI(2group)\n",
      "0    0.878788\n",
      "1    0.121212\n",
      "dtype: float64\n",
      "LVI(2group)\n",
      "0    0.802632\n",
      "1    0.197368\n",
      "dtype: float64\n",
      "LVI(2group)\n",
      "0    0.757576\n",
      "1    0.242424\n",
      "dtype: float64\n",
      "Age.51\n",
      "0    0.447368\n",
      "1    0.552632\n",
      "dtype: float64\n",
      "Age.51\n",
      "0    0.393939\n",
      "1    0.606061\n",
      "dtype: float64\n",
      "Mass size binary(2cm)\n",
      "0    0.434211\n",
      "1    0.565789\n",
      "dtype: float64\n",
      "Mass size binary(2cm)\n",
      "0    0.424242\n",
      "1    0.575758\n",
      "dtype: float64\n"
     ]
    }
   ],
   "source": [
    "print(sum(data_train['ultrastaging_lymphnode_metastasis']))\n",
    "print(sum(data_test['ultrastaging_lymphnode_metastasis']))\n",
    "print(data_train.groupby(['ultrastaging_lymphnode_metastasis']).size()/data_train.shape[0])\n",
    "print(data_test.groupby(['ultrastaging_lymphnode_metastasis']).size()/data_test.shape[0])\n",
    "print(data_train.groupby(['Histology(2group)']).size()/data_train.shape[0])\n",
    "print(data_test.groupby(['Histology(2group)']).size()/data_test.shape[0])\n",
    "print(data_train.groupby(['MI(2group)']).size()/data_train.shape[0])\n",
    "print(data_test.groupby(['MI(2group)']).size()/data_test.shape[0])\n",
    "print(data_train.groupby(['LVI(2group)']).size()/data_train.shape[0])\n",
    "print(data_test.groupby(['LVI(2group)']).size()/data_test.shape[0])\n",
    "print(data_train.groupby(['Age.51']).size()/data_train.shape[0])\n",
    "print(data_test.groupby(['Age.51']).size()/data_test.shape[0])\n",
    "print(data_train.groupby(['Mass size binary(2cm)']).size()/data_train.shape[0])\n",
    "print(data_test.groupby(['Mass size binary(2cm)']).size()/data_test.shape[0])"
   ]
  },
  {
   "cell_type": "code",
   "execution_count": 11,
   "id": "75275664",
   "metadata": {},
   "outputs": [],
   "source": [
    "# Split categorical and numerical columns\n",
    "cat_cols = ['Histology(2group)',\n",
    "            'MI(2group)',\n",
    "            'Mass size binary(2cm)',\n",
    "            'LVI(2group)',\n",
    "            'Age.51'\n",
    "            ]\n",
    "num_cols = ['CA 125']"
   ]
  },
  {
   "cell_type": "code",
   "execution_count": 12,
   "id": "fb7e640b",
   "metadata": {},
   "outputs": [
    {
     "name": "stdout",
     "output_type": "stream",
     "text": [
      "Histology(2group) 1.0\n",
      "MI(2group) 0.7519483948584343\n",
      "Mass size binary(2cm) 1.0\n",
      "LVI(2group) 0.6156613995686921\n",
      "Age.51 0.6765186488101034\n",
      "ultrastaging_lymphnode_metastasis 1.0\n"
     ]
    }
   ],
   "source": [
    "from scipy.stats import fisher_exact, chi2_contingency, mannwhitneyu\n",
    "\n",
    "p_value_list = []\n",
    "for cat in cat_cols+['ultrastaging_lymphnode_metastasis']:\n",
    "    contingency_table_train = pd.crosstab(data_train[cat], columns='count')\n",
    "    contingency_table_test = pd.crosstab(data_test[cat], columns='count')\n",
    "    if pd.crosstab(data_train[cat], columns='count').shape[0] == 2 :\n",
    "        _, p_value = fisher_exact([contingency_table_train['count'], contingency_table_test['count']])\n",
    "    else :\n",
    "        _, p_value, _, _ = chi2_contingency([contingency_table_train['count'], contingency_table_test['count']])\n",
    "    print(cat, p_value)\n",
    "    p_value_list.append(p_value)"
   ]
  },
  {
   "cell_type": "code",
   "execution_count": 13,
   "id": "079699ec",
   "metadata": {},
   "outputs": [
    {
     "name": "stdout",
     "output_type": "stream",
     "text": [
      "(76, 5) (33, 5)\n"
     ]
    }
   ],
   "source": [
    "# Won't use continuous cols\n",
    "X_train, X_test = data_train[cat_cols], data_test[cat_cols]\n",
    "y_train, y_test = data_train['ultrastaging_lymphnode_metastasis'], data_test['ultrastaging_lymphnode_metastasis']\n",
    "print(X_train.shape,X_test.shape)"
   ]
  },
  {
   "cell_type": "code",
   "execution_count": 14,
   "id": "19ab54f7",
   "metadata": {},
   "outputs": [],
   "source": [
    "# Define preprocessing steps\n",
    "categorical_transformer = Pipeline(steps=[\n",
    "    ('onehot', OneHotEncoder(handle_unknown='ignore',drop='first'))\n",
    "])\n",
    "\n",
    "# Define the column transformer\n",
    "preprocessor = ColumnTransformer(\n",
    "    transformers=[\n",
    "        ('cat', categorical_transformer, cat_cols),\n",
    "        #('num', 'passthrough', num_cols)  # Assuming num_cols are numeric columns\n",
    "    ])"
   ]
  },
  {
   "cell_type": "code",
   "execution_count": 15,
   "id": "88741892",
   "metadata": {},
   "outputs": [],
   "source": [
    "dt = DecisionTreeClassifier(random_state=r)\n",
    "dt_pipe = Pipeline(steps=[('preprocessor', preprocessor),\n",
    "                          ('classifier', dt)])\n",
    "\n",
    "xgb = XGBClassifier(random_state=r)\n",
    "xgb_pipe = Pipeline(steps=[('preprocessor', preprocessor),\n",
    "                            ('classifier', xgb)])\n",
    "\n",
    "cat = CatBoostClassifier(random_state=r, silent=True)\n",
    "cat_pipe = Pipeline(steps=[('preprocessor', preprocessor),\n",
    "                            ('classifier', cat)])\n",
    "\n",
    "rf = RandomForestClassifier(random_state=r)\n",
    "rf_pipe = Pipeline(steps=[('preprocessor', preprocessor),\n",
    "                          ('classifier', rf)])"
   ]
  },
  {
   "cell_type": "code",
   "execution_count": 16,
   "id": "2751cd2e",
   "metadata": {},
   "outputs": [
    {
     "name": "stdout",
     "output_type": "stream",
     "text": [
      "7.444444444444445 7\n"
     ]
    }
   ],
   "source": [
    "weight = (len(y_train)-sum(y_train))/sum(y_train)\n",
    "print(weight, round(weight))"
   ]
  },
  {
   "cell_type": "code",
   "execution_count": 17,
   "id": "4fc63b1f",
   "metadata": {},
   "outputs": [],
   "source": [
    "depth = 3\n",
    "weight = 7\n",
    "\n",
    "dt_params = {\n",
    "    'classifier__max_depth': [depth],\n",
    "    'classifier__class_weight': [{0:1, 1: weight}]\n",
    "}\n",
    "\n",
    "xgb_params = {\n",
    "    'classifier__max_depth': [depth],\n",
    "    'classifier__learning_rate': [0.01],\n",
    "    'classifier__scale_pos_weight': [weight],\n",
    "#     'classifier__alpha': [0.1],\n",
    "#     'classifier__lambda': [0.1],\n",
    "#     'classifier__eta' : [0.1],\n",
    "#    'classifier__tree_method' : ['exact']\n",
    "}\n",
    "\n",
    "cat_params = {\n",
    "    'classifier__depth': [depth],\n",
    "    'classifier__iterations': [100],\n",
    "    'classifier__learning_rate': [0.01],\n",
    "    'classifier__scale_pos_weight': [weight],\n",
    "}\n",
    "\n",
    "rf_params = {\n",
    "    'classifier__n_estimators': [100],\n",
    "    'classifier__max_depth': [depth],\n",
    "    #'classifier__min_samples_leaf': [3,5],\n",
    "    #'classifier__max_features': ['sqrt','auto'],\n",
    "    'classifier__class_weight': [{0:1, 1: weight}]\n",
    "}\n",
    "#{0:1, 1: weight},"
   ]
  },
  {
   "cell_type": "code",
   "execution_count": 18,
   "id": "e79ed9de",
   "metadata": {},
   "outputs": [],
   "source": [
    "%%capture\n",
    "scoring = 'f1'\n",
    "\n",
    "dt_grid_search = train_tune_classifier(dt_pipe, \n",
    "                                        dt_params, \n",
    "                                        X_train, y_train,\n",
    "                                        scoring)\n",
    "rf_grid_search = train_tune_classifier(rf_pipe,\n",
    "                                       rf_params,\n",
    "                                       X_train, y_train,\n",
    "                                       scoring)\n",
    "cat_grid_search = train_tune_classifier(cat_pipe, \n",
    "                                        cat_params, \n",
    "                                        X_train, y_train,\n",
    "                                        scoring)\n",
    "xgb_grid_search = train_tune_classifier(xgb_pipe, \n",
    "                                        xgb_params, \n",
    "                                        X_train, y_train,\n",
    "                                        scoring)"
   ]
  },
  {
   "cell_type": "code",
   "execution_count": 19,
   "id": "a027e6b0",
   "metadata": {},
   "outputs": [
    {
     "name": "stdout",
     "output_type": "stream",
     "text": [
      "XGBoostClassifier with trainset :\n",
      "Confusion Matrix:\n",
      "[[50 17]\n",
      " [ 5  4]]\n",
      "Sensitivity (Recall for class 1):, 0.444\n",
      "Specificity (Recall for class 0):, 0.746\n",
      "Precision:, 0.190\n",
      "F1-Score:, 0.267\n",
      "AUC-ROC Score:, 0.667\n",
      "\n",
      "\n",
      "CatBoostClassifier with trainset :\n",
      "Confusion Matrix:\n",
      "[[45 22]\n",
      " [ 3  6]]\n",
      "Sensitivity (Recall for class 1):, 0.667\n",
      "Specificity (Recall for class 0):, 0.672\n",
      "Precision:, 0.214\n",
      "F1-Score:, 0.324\n",
      "AUC-ROC Score:, 0.754\n",
      "\n",
      "\n",
      "DecisionTreeClassifier with trainset :\n",
      "Confusion Matrix:\n",
      "[[35 32]\n",
      " [ 2  7]]\n",
      "Sensitivity (Recall for class 1):, 0.778\n",
      "Specificity (Recall for class 0):, 0.522\n",
      "Precision:, 0.179\n",
      "F1-Score:, 0.292\n",
      "AUC-ROC Score:, 0.701\n",
      "\n",
      "\n",
      "RandomForestClassifier with trainset :\n",
      "Confusion Matrix:\n",
      "[[65  2]\n",
      " [ 8  1]]\n",
      "Sensitivity (Recall for class 1):, 0.111\n",
      "Specificity (Recall for class 0):, 0.970\n",
      "Precision:, 0.333\n",
      "F1-Score:, 0.167\n",
      "AUC-ROC Score:, 0.823\n"
     ]
    }
   ],
   "source": [
    "y_pred = xgb_grid_search.predict(X_train)\n",
    "print('XGBoostClassifier with trainset :')\n",
    "print_prediction_score(xgb_grid_search, X_train, y_train, y_pred)\n",
    "\n",
    "print('\\n')\n",
    "y_pred = cat_grid_search.predict(X_train)\n",
    "print('CatBoostClassifier with trainset :')\n",
    "print_prediction_score(cat_grid_search, X_train, y_train, y_pred)\n",
    "\n",
    "# print('\\n')\n",
    "# y_pred = lgbm_grid_search.predict(X_train)\n",
    "# print('LightGBMClassifier with trainset :')\n",
    "# print_prediction_score(lgbm_grid_search, X_train, y_train, y_pred)\n",
    "\n",
    "print('\\n')\n",
    "y_pred = dt_grid_search.predict(X_train)\n",
    "print('DecisionTreeClassifier with trainset :')\n",
    "print_prediction_score(dt_grid_search, X_train, y_train, y_pred)\n",
    "\n",
    "print('\\n')\n",
    "y_pred = rf_grid_search.predict(X_train)\n",
    "print('RandomForestClassifier with trainset :')\n",
    "print_prediction_score(rf_grid_search, X_train, y_train, y_pred)"
   ]
  },
  {
   "cell_type": "code",
   "execution_count": 20,
   "id": "d8514e25",
   "metadata": {},
   "outputs": [
    {
     "name": "stdout",
     "output_type": "stream",
     "text": [
      "XGBoostClassifier with testset :\n",
      "Confusion Matrix:\n",
      "[[23  6]\n",
      " [ 1  3]]\n",
      "Sensitivity (Recall for class 1):, 0.750\n",
      "Specificity (Recall for class 0):, 0.793\n",
      "Precision:, 0.333\n",
      "F1-Score:, 0.462\n",
      "AUC-ROC Score:, 0.767\n",
      "\n",
      "\n",
      "CatBoostClassifier with testset :\n",
      "Confusion Matrix:\n",
      "[[19 10]\n",
      " [ 3  1]]\n",
      "Sensitivity (Recall for class 1):, 0.250\n",
      "Specificity (Recall for class 0):, 0.655\n",
      "Precision:, 0.091\n",
      "F1-Score:, 0.133\n",
      "AUC-ROC Score:, 0.504\n",
      "\n",
      "\n",
      "DecisionTreeClassifier with testset :\n",
      "Confusion Matrix:\n",
      "[[13 16]\n",
      " [ 3  1]]\n",
      "Sensitivity (Recall for class 1):, 0.250\n",
      "Specificity (Recall for class 0):, 0.448\n",
      "Precision:, 0.059\n",
      "F1-Score:, 0.095\n",
      "AUC-ROC Score:, 0.315\n",
      "\n",
      "\n",
      "RandomForestClassifier with testset :\n",
      "Confusion Matrix:\n",
      "[[27  2]\n",
      " [ 3  1]]\n",
      "Sensitivity (Recall for class 1):, 0.250\n",
      "Specificity (Recall for class 0):, 0.931\n",
      "Precision:, 0.333\n",
      "F1-Score:, 0.286\n",
      "AUC-ROC Score:, 0.409\n"
     ]
    }
   ],
   "source": [
    "y_pred = xgb_grid_search.predict(X_test)\n",
    "print('XGBoostClassifier with testset :')\n",
    "print_prediction_score(xgb_grid_search, X_test, y_test, y_pred)\n",
    "\n",
    "print('\\n')\n",
    "y_pred = cat_grid_search.predict(X_test)\n",
    "print('CatBoostClassifier with testset :')\n",
    "print_prediction_score(cat_grid_search, X_test, y_test, y_pred)\n",
    "\n",
    "# print('\\n')\n",
    "# y_pred = lgbm_grid_search.predict(X_test)\n",
    "# print('LightGBMClassifier with testset :')\n",
    "# print_prediction_score(lgbm_grid_search, X_test, y_test, y_pred)\n",
    "\n",
    "print('\\n')\n",
    "y_pred = dt_grid_search.predict(X_test)\n",
    "print('DecisionTreeClassifier with testset :')\n",
    "print_prediction_score(dt_grid_search, X_test, y_test, y_pred)\n",
    "\n",
    "print('\\n')\n",
    "y_pred = rf_grid_search.predict(X_test)\n",
    "print('RandomForestClassifier with testset :')\n",
    "print_prediction_score(rf_grid_search, X_test, y_test, y_pred)"
   ]
  },
  {
   "cell_type": "code",
   "execution_count": 21,
   "id": "49c30092",
   "metadata": {},
   "outputs": [
    {
     "name": "stdout",
     "output_type": "stream",
     "text": [
      "XGBoostClassifier feature_importance :\n"
     ]
    },
    {
     "data": {
      "image/png": "[encoded data removed]",
      "text/plain": [
       "<Figure size 1000x200 with 1 Axes>"
      ]
     },
     "metadata": {},
     "output_type": "display_data"
    },
    {
     "name": "stdout",
     "output_type": "stream",
     "text": [
      "\n",
      "\n",
      "CatBoostClassifier feature_importance :\n"
     ]
    },
    {
     "data": {
      "image/png": "[encoded data removed]",
      "text/plain": [
       "<Figure size 1000x200 with 1 Axes>"
      ]
     },
     "metadata": {},
     "output_type": "display_data"
    },
    {
     "name": "stdout",
     "output_type": "stream",
     "text": [
      "\n",
      "\n",
      "DecisionTreeClassifier feature_importance :\n"
     ]
    },
    {
     "data": {
      "image/png": "[encoded data removed]",
      "text/plain": [
       "<Figure size 1000x200 with 1 Axes>"
      ]
     },
     "metadata": {},
     "output_type": "display_data"
    },
    {
     "name": "stdout",
     "output_type": "stream",
     "text": [
      "\n",
      "\n",
      "RandomForestClassifier feature_importance :\n"
     ]
    },
    {
     "data": {
      "image/png": "[encoded data removed]",
      "text/plain": [
       "<Figure size 1000x200 with 1 Axes>"
      ]
     },
     "metadata": {},
     "output_type": "display_data"
    }
   ],
   "source": [
    "print('XGBoostClassifier feature_importance :')\n",
    "xgb_sorted_feature_importances = print_feature_importance(xgb_grid_search,above_zero=False)\n",
    "plot_feature_importances(xgb_sorted_feature_importances, \n",
    "                         'Feature Importances of XGBoostClassifier', \n",
    "                         color=\"skyblue\")\n",
    "\n",
    "print('\\n')\n",
    "print('CatBoostClassifier feature_importance :')\n",
    "cat_sorted_feature_importances = print_feature_importance(cat_grid_search,above_zero=False)\n",
    "plot_feature_importances(cat_sorted_feature_importances, \n",
    "                         'Feature Importances of CatBoostClassifier', \n",
    "                         color=\"orange\")\n",
    "\n",
    "print('\\n')\n",
    "print('DecisionTreeClassifier feature_importance :')\n",
    "dt_sorted_feature_importances = print_feature_importance(dt_grid_search,above_zero=False)\n",
    "plot_feature_importances(dt_sorted_feature_importances, \n",
    "                         'Feature Importances of DecisionTreeClassifier', \n",
    "                         color=\"blue\")\n",
    "\n",
    "# print('\\n')\n",
    "# print('LightGBMClassifier feature_importance :')\n",
    "# lgbm_sorted_feature_importances = print_feature_importance(lgbm_grid_search,above_zero=False)\n",
    "# plot_feature_importances(lgbm_sorted_feature_importances, \n",
    "#                          'Feature Importances of LightGBMClassifier', \n",
    "#                          color=\"blue\")\n",
    "\n",
    "print('\\n')\n",
    "print('RandomForestClassifier feature_importance :')\n",
    "rf_sorted_feature_importances = print_feature_importance(rf_grid_search,above_zero=False)\n",
    "plot_feature_importances(rf_sorted_feature_importances, \n",
    "                         'Feature Importances of RandomForestClassifier', \n",
    "                         color=\"red\")\n"
   ]
  },
  {
   "cell_type": "code",
   "execution_count": null,
   "id": "5d99e609",
   "metadata": {},
   "outputs": [],
   "source": []
  },
  {
   "cell_type": "code",
   "execution_count": null,
   "id": "c125c58a",
   "metadata": {},
   "outputs": [],
   "source": []
  }
 ],
 "metadata": {
  "kernelspec": {
   "display_name": "Python 3 (ipykernel)",
   "language": "python",
   "name": "python3"
  },
  "language_info": {
   "codemirror_mode": {
    "name": "ipython",
    "version": 3
   },
   "file_extension": ".py",
   "mimetype": "text/x-python",
   "name": "python",
   "nbconvert_exporter": "python",
   "pygments_lexer": "ipython3",
   "version": "3.11.4"
  }
 },
 "nbformat": 4,
 "nbformat_minor": 5
}
